{
 "cells": [
  {
   "cell_type": "code",
   "execution_count": 1,
   "metadata": {},
   "outputs": [],
   "source": [
    "#final model\n",
    "import pandas as pd\n",
    "import numpy as np\n",
    "import seaborn as sns\n",
    "import matplotlib.pyplot as plt\n",
    "import warnings\n",
    "warnings.filterwarnings('ignore')"
   ]
  },
  {
   "cell_type": "code",
   "execution_count": 2,
   "metadata": {},
   "outputs": [],
   "source": [
    "df=pd.read_csv(r'C:\\Users\\pavan\\Desktop\\data_science\\Ecxelr project\\Insurance Dataset Project.csv')"
   ]
  },
  {
   "cell_type": "code",
   "execution_count": 3,
   "metadata": {},
   "outputs": [],
   "source": [
    "#drop the dupliacated value and create a new dataframe\n",
    "df_input=df.drop_duplicates()"
   ]
  },
  {
   "cell_type": "code",
   "execution_count": 4,
   "metadata": {},
   "outputs": [],
   "source": [
    "df_input.drop(columns=['year_discharge','payment_typology_3','ccs_diagnosis_description','Certificate_num','ccs_procedure_description','Description_illness','payment_typology_2'],inplace=True)"
   ]
  },
  {
   "cell_type": "code",
   "execution_count": 96,
   "metadata": {},
   "outputs": [
    {
     "data": {
      "text/plain": [
       "array(['Y', 'N'], dtype=object)"
      ]
     },
     "execution_count": 96,
     "metadata": {},
     "output_type": "execute_result"
    }
   ],
   "source": [
    "df['Emergency dept_yes/No'].unique()"
   ]
  },
  {
   "cell_type": "code",
   "execution_count": 6,
   "metadata": {},
   "outputs": [],
   "source": [
    "dummy=df_input"
   ]
  },
  {
   "cell_type": "code",
   "execution_count": 7,
   "metadata": {},
   "outputs": [],
   "source": [
    "dummy.dropna(inplace=True)"
   ]
  },
  {
   "cell_type": "code",
   "execution_count": 8,
   "metadata": {},
   "outputs": [],
   "source": [
    "from sklearn.preprocessing import LabelEncoder\n",
    "lb_make = LabelEncoder()\n",
    "dummy['Age']=lb_make.fit_transform(dummy['Age'])\n",
    "dummy['Gender']=lb_make.fit_transform(dummy['Gender'])\n",
    "dummy['Cultural_group']=lb_make.fit_transform(dummy['Cultural_group'])\n",
    "dummy['ethnicity']=lb_make.fit_transform(dummy['ethnicity'])\n",
    "dummy['Admission_type']=lb_make.fit_transform(dummy['Admission_type'])\n",
    "dummy['Surg_Description']=lb_make.fit_transform(dummy['Surg_Description'])\n",
    "dummy['Abortion']=lb_make.fit_transform(dummy['Abortion'])\n",
    "dummy['Emergency dept_yes/No']=lb_make.fit_transform(dummy['Emergency dept_yes/No'])\n",
    "dummy['Home or self care,']=lb_make.fit_transform(dummy['Home or self care,'])\n",
    "dummy['Mortality risk']=lb_make.fit_transform(dummy['Mortality risk'])\n",
    "dummy['Area_Service']=lb_make.fit_transform(dummy['Area_Service'])\n",
    "dummy['Hospital County']=lb_make.fit_transform(dummy['Hospital County'])\n",
    "dummy['Payment_typology_1']=lb_make.fit_transform(dummy['Payment_typology_1'])\n",
    "dummy['Result']=lb_make.fit_transform(dummy['Result'])"
   ]
  },
  {
   "cell_type": "code",
   "execution_count": 9,
   "metadata": {},
   "outputs": [],
   "source": [
    "#since we have 120 + and the mean of rhe day spend is 5 so 120+5=125\n",
    "dummy.loc[dummy['Days_spend_hsptl']=='120 +','Days_spend_hsptl']=125"
   ]
  },
  {
   "cell_type": "code",
   "execution_count": 10,
   "metadata": {},
   "outputs": [],
   "source": [
    "dummy['Days_spend_hsptl']=dummy['Days_spend_hsptl'].astype(int)"
   ]
  },
  {
   "cell_type": "code",
   "execution_count": 11,
   "metadata": {},
   "outputs": [],
   "source": [
    "dummy['Code_illness']=dummy['Code_illness'].astype(int)"
   ]
  },
  {
   "cell_type": "code",
   "execution_count": 12,
   "metadata": {},
   "outputs": [],
   "source": [
    "dummy.loc[dummy['zip_code_3_digits']=='OOS','zip_code_3_digits']=111\n",
    "\n",
    "dummy['zip_code_3_digits']=dummy['zip_code_3_digits'].astype(str)\n",
    "dummy.loc[dummy['zip_code_3_digits']=='nan','zip_code_3_digits']='102'\n",
    "dummy['zip_code_3_digits']=dummy['zip_code_3_digits'].astype(int)"
   ]
  },
  {
   "cell_type": "code",
   "execution_count": 17,
   "metadata": {},
   "outputs": [
    {
     "data": {
      "text/plain": [
       "(1032011, 23)"
      ]
     },
     "execution_count": 17,
     "metadata": {},
     "output_type": "execute_result"
    }
   ],
   "source": [
    "dummy.shape"
   ]
  },
  {
   "cell_type": "code",
   "execution_count": 15,
   "metadata": {},
   "outputs": [],
   "source": [
    "dummy.drop(columns=['Hospital Name','apr_mdc_description','apr_drg_description'],inplace=True)"
   ]
  },
  {
   "cell_type": "code",
   "execution_count": 18,
   "metadata": {},
   "outputs": [],
   "source": [
    "col=list(dummy.columns)\n",
    "predictors=col[0:22]\n",
    "result=col[22]\n"
   ]
  },
  {
   "cell_type": "code",
   "execution_count": 36,
   "metadata": {},
   "outputs": [
    {
     "data": {
      "text/plain": [
       "['Area_Service',\n",
       " 'Hospital County',\n",
       " 'Age',\n",
       " 'zip_code_3_digits',\n",
       " 'Gender',\n",
       " 'Cultural_group',\n",
       " 'ethnicity',\n",
       " 'Days_spend_hsptl',\n",
       " 'Admission_type',\n",
       " 'Home or self care,',\n",
       " 'ccs_diagnosis_code',\n",
       " 'ccs_procedure_code',\n",
       " 'Code_illness',\n",
       " 'Mortality risk',\n",
       " 'Surg_Description',\n",
       " 'Payment_typology_1',\n",
       " 'Weight_baby',\n",
       " 'Abortion',\n",
       " 'Emergency dept_yes/No',\n",
       " 'Tot_charg',\n",
       " 'Tot_cost',\n",
       " 'ratio_of_total_costs_to_total_charges']"
      ]
     },
     "execution_count": 36,
     "metadata": {},
     "output_type": "execute_result"
    }
   ],
   "source": [
    "predictors"
   ]
  },
  {
   "cell_type": "code",
   "execution_count": 21,
   "metadata": {},
   "outputs": [],
   "source": [
    "from sklearn.model_selection import train_test_split\n",
    "from sklearn.preprocessing import StandardScaler\n",
    "sc=StandardScaler()\n",
    "d=sc.fit_transform(dummy[predictors])\n",
    "new=pd.DataFrame(d)"
   ]
  },
  {
   "cell_type": "code",
   "execution_count": 110,
   "metadata": {},
   "outputs": [],
   "source": [
    "#import package for PCA\n",
    "from sklearn.decomposition import PCA\n",
    "pca=PCA(n_components=21)\n",
    "pc=pca.fit_transform(new)"
   ]
  },
  {
   "cell_type": "code",
   "execution_count": 111,
   "metadata": {},
   "outputs": [
    {
     "data": {
      "text/plain": [
       "array([0.14268641, 0.10101993, 0.0733403 , 0.06632736, 0.06188876,\n",
       "       0.05649613, 0.0517677 , 0.04930765, 0.04655946, 0.04606299,\n",
       "       0.04505265, 0.04144803, 0.03917767, 0.03642656, 0.03317117,\n",
       "       0.02861612, 0.02447576, 0.01970326, 0.01628297, 0.01347914,\n",
       "       0.00670997])"
      ]
     },
     "execution_count": 111,
     "metadata": {},
     "output_type": "execute_result"
    }
   ],
   "source": [
    "pca.explained_variance_ratio_"
   ]
  },
  {
   "cell_type": "code",
   "execution_count": 112,
   "metadata": {},
   "outputs": [],
   "source": [
    "pca_df=pd.DataFrame(pc)"
   ]
  },
  {
   "cell_type": "code",
   "execution_count": 113,
   "metadata": {},
   "outputs": [],
   "source": [
    "xtrain,xtest,ytrain,ytest=train_test_split(pca_df,dummy[result])"
   ]
  },
  {
   "cell_type": "code",
   "execution_count": 115,
   "metadata": {},
   "outputs": [
    {
     "data": {
      "text/plain": [
       "(774008, 21)"
      ]
     },
     "execution_count": 115,
     "metadata": {},
     "output_type": "execute_result"
    }
   ],
   "source": [
    "xtrain.shape"
   ]
  },
  {
   "cell_type": "code",
   "execution_count": 103,
   "metadata": {},
   "outputs": [],
   "source": [
    "from sklearn.neighbors import KNeighborsClassifier\n",
    "\n",
    "knn = KNeighborsClassifier(n_neighbors=3)"
   ]
  },
  {
   "cell_type": "code",
   "execution_count": 104,
   "metadata": {},
   "outputs": [],
   "source": [
    "model2=knn.fit(xtrain,ytrain)"
   ]
  },
  {
   "cell_type": "code",
   "execution_count": 105,
   "metadata": {},
   "outputs": [],
   "source": [
    "pred2=model2.predict(xtest)"
   ]
  },
  {
   "cell_type": "code",
   "execution_count": 106,
   "metadata": {},
   "outputs": [
    {
     "data": {
      "text/plain": [
       "0.671042584776146"
      ]
     },
     "execution_count": 106,
     "metadata": {},
     "output_type": "execute_result"
    }
   ],
   "source": [
    "np.mean(pred2==ytest)"
   ]
  },
  {
   "cell_type": "code",
   "execution_count": 107,
   "metadata": {},
   "outputs": [],
   "source": [
    "from sklearn.metrics import confusion_matrix"
   ]
  },
  {
   "cell_type": "code",
   "execution_count": 108,
   "metadata": {},
   "outputs": [
    {
     "data": {
      "text/plain": [
       "array([[  9973,  54660],\n",
       "       [ 30212, 163158]], dtype=int64)"
      ]
     },
     "execution_count": 108,
     "metadata": {},
     "output_type": "execute_result"
    }
   ],
   "source": [
    "confusion_matrix(ytest,pred2)"
   ]
  },
  {
   "cell_type": "code",
   "execution_count": null,
   "metadata": {},
   "outputs": [],
   "source": [
    "from sklearn.metrics"
   ]
  },
  {
   "cell_type": "code",
   "execution_count": 109,
   "metadata": {},
   "outputs": [],
   "source": [
    "import pickle\n",
    "# save the model to disk\n",
    "filename = 'model1.pkl'\n",
    "pickle.dump(model2, open(filename, 'wb'))"
   ]
  },
  {
   "cell_type": "code",
   "execution_count": null,
   "metadata": {},
   "outputs": [],
   "source": []
  }
 ],
 "metadata": {
  "kernelspec": {
   "display_name": "Python 3",
   "language": "python",
   "name": "python3"
  },
  "language_info": {
   "codemirror_mode": {
    "name": "ipython",
    "version": 3
   },
   "file_extension": ".py",
   "mimetype": "text/x-python",
   "name": "python",
   "nbconvert_exporter": "python",
   "pygments_lexer": "ipython3",
   "version": "3.7.5"
  }
 },
 "nbformat": 4,
 "nbformat_minor": 2
}
